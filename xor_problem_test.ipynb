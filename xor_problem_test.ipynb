{
  "nbformat": 4,
  "nbformat_minor": 0,
  "metadata": {
    "colab": {
      "provenance": [],
      "authorship_tag": "ABX9TyMP8G4qp8m5lHGXdbaS1gud",
      "include_colab_link": true
    },
    "kernelspec": {
      "name": "python3",
      "display_name": "Python 3"
    },
    "language_info": {
      "name": "python"
    }
  },
  "cells": [
    {
      "cell_type": "markdown",
      "metadata": {
        "id": "view-in-github",
        "colab_type": "text"
      },
      "source": [
        "<a href=\"https://colab.research.google.com/github/gluten-morgen/Neural_Network_from_Scratch/blob/master/xor_problem_test.ipynb\" target=\"_parent\"><img src=\"https://colab.research.google.com/assets/colab-badge.svg\" alt=\"Open In Colab\"/></a>"
      ]
    },
    {
      "cell_type": "markdown",
      "source": [
        "Testing the neural network to approximate a XOR Gate.\n",
        "\n",
        "\n",
        "The trained weights have an accuracy of 100% when tested on random samples."
      ],
      "metadata": {
        "id": "lOCKp_WaIVXD"
      }
    },
    {
      "cell_type": "markdown",
      "source": [
        "# Note\n",
        "\n",
        "\n",
        "## Upload these files to run:\n",
        "\n",
        "- NeuralNetwork.py\n",
        "- xor_weights.pkl"
      ],
      "metadata": {
        "id": "iy_DF7RnIYS6"
      }
    },
    {
      "cell_type": "code",
      "execution_count": 1,
      "metadata": {
        "colab": {
          "base_uri": "https://localhost:8080/"
        },
        "id": "9msIXtcpH6kd",
        "outputId": "40c93d36-e6f0-4e1d-9d54-07ddf843678e"
      },
      "outputs": [
        {
          "output_type": "stream",
          "name": "stdout",
          "text": [
            "\n",
            "input: (1, 1) -------------- output: 0\n",
            "\n",
            "\n",
            "input: (0, 1) -------------- output: 1\n",
            "\n",
            "\n",
            "input: (0, 1) -------------- output: 1\n",
            "\n",
            "\n",
            "input: (0, 0) -------------- output: 0\n",
            "\n",
            "\n",
            "input: (1, 1) -------------- output: 0\n",
            "\n",
            "\n",
            "input: (1, 1) -------------- output: 0\n",
            "\n",
            "\n",
            "input: (1, 1) -------------- output: 0\n",
            "\n",
            "\n",
            "input: (0, 0) -------------- output: 0\n",
            "\n",
            "\n",
            "input: (1, 1) -------------- output: 0\n",
            "\n",
            "\n",
            "input: (0, 1) -------------- output: 1\n",
            "\n"
          ]
        }
      ],
      "source": [
        "# importing the libraries\n",
        "import numpy as np\n",
        "from NeuralNetwork import NN\n",
        "\n",
        "\n",
        "# create the data using random values\n",
        "def get_samples(sample_size):\n",
        "\n",
        "    X = []\n",
        "    Y = []\n",
        "    for _ in range(sample_size):\n",
        "        a = np.random.randint(0, 1000)\n",
        "        b = np.random.randint(0, 3000)\n",
        "\n",
        "        a = int(a % 2 == 0 or a % 7 == 0)\n",
        "        b = int(b % 3 == 0 or b % 5 == 0)\n",
        "\n",
        "        y1 = a ^ b\n",
        "\n",
        "        x = [a, b]\n",
        "        y = [y1]\n",
        "\n",
        "        X.append(x)\n",
        "        Y.append(y)\n",
        "\n",
        "    return np.array([X]), np.array([Y])\n",
        "\n",
        "\n",
        "\n",
        "# return batches of data\n",
        "def get_batch(batches, batch_size):\n",
        "    X_batch, Y_batch = get_samples(batch_size)\n",
        "    for _ in range(batches - 1):\n",
        "        X_batch = np.concatenate([X_batch, get_samples(batch_size)[0]], axis=0)\n",
        "        Y_batch = np.concatenate([Y_batch, get_samples(batch_size)[1]], axis=0)\n",
        "\n",
        "    return X_batch, Y_batch\n",
        "\n",
        "\n",
        "# initialize the neural netowrk layers\n",
        "layer1 = NN(2, 5, 'relu', load_weights=True, filename='xor_weights')\n",
        "layer2 = NN(5, 1, 'sigmoid')\n",
        "\n",
        "\n",
        "# get a single batch of samples\n",
        "\n",
        "samples = 10\n",
        "\n",
        "X, Y = get_samples(samples)\n",
        "\n",
        "y_hat = layer1.forward(X)\n",
        "y_hat = layer2.forward(y_hat)\n",
        "\n",
        "y_pred = y_hat > 0.5\n",
        "\n",
        "X = X.squeeze()\n",
        "y_pred = y_pred.squeeze()\n",
        "\n",
        "for inputs, output in zip(X, y_pred):\n",
        "    print(f'\\ninput: {tuple(inputs)} -------------- output: {int(output)}\\n')"
      ]
    }
  ]
}